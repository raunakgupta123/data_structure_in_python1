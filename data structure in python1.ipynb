{
 "cells": [
  {
   "cell_type": "code",
   "execution_count": 1,
   "id": "80790893-03ad-4a4f-a536-a40eb73d0eaa",
   "metadata": {},
   "outputs": [
    {
     "data": {
      "text/plain": [
       "'sllikswp'"
      ]
     },
     "execution_count": 1,
     "metadata": {},
     "output_type": "execute_result"
    }
   ],
   "source": [
    "#Q.1 write a code to reverse a string\n",
    "s='pwskills'\n",
    "s[::-1]"
   ]
  },
  {
   "cell_type": "code",
   "execution_count": 7,
   "id": "99407787-96b0-45ab-8140-f57fd18297f5",
   "metadata": {},
   "outputs": [
    {
     "name": "stdout",
     "output_type": "stream",
     "text": [
      "the number of vowels in a string is : 1\n"
     ]
    }
   ],
   "source": [
    "#Q.2 write a code to count the number of vowels in a string\n",
    "s='pwskills'\n",
    "vowels=0\n",
    "for i in s:\n",
    "    if 'a' in i or 'e' in i or'i' in i or 'o' in i or 'u' in i:\n",
    "        vowels+=1\n",
    "        print('the number of vowels in a string is :', vowels)"
   ]
  },
  {
   "cell_type": "code",
   "execution_count": 8,
   "id": "335f5c6f-a27e-484e-8a7f-4d604bd5ac3d",
   "metadata": {},
   "outputs": [
    {
     "name": "stdin",
     "output_type": "stream",
     "text": [
      "enter words nitin\n"
     ]
    },
    {
     "name": "stdout",
     "output_type": "stream",
     "text": [
      "yes your string is palindrome\n"
     ]
    }
   ],
   "source": [
    "#Q.3 write a code to check if a given string is a palindrome or not\n",
    "s=input('enter words')\n",
    "if s==s[::-1]:\n",
    "    print('yes your string is palindrome')\n",
    "else:\n",
    "    print('this string is not palindrome')"
   ]
  },
  {
   "cell_type": "code",
   "execution_count": 10,
   "id": "d69c2cbe-e0c4-447d-a919-7a9eee5923f7",
   "metadata": {},
   "outputs": [
    {
     "name": "stdin",
     "output_type": "stream",
     "text": [
      "enter first string listen\n",
      "enter second string silent\n"
     ]
    },
    {
     "name": "stdout",
     "output_type": "stream",
     "text": [
      "both strings are not anagrams to each other\n"
     ]
    }
   ],
   "source": [
    "#Q.4 write a code to check if two given strings are anagrams to each other\n",
    "s1=input('enter first string')\n",
    "s2=input('enter second string')\n",
    "if s1 in s2:\n",
    "    print('both strings are anagram to each other')\n",
    "else:\n",
    "    print('both strings are not anagrams to each other')"
   ]
  },
  {
   "cell_type": "code",
   "execution_count": 14,
   "id": "4ad8e7af-e6b1-474f-a489-5286840ac0bb",
   "metadata": {},
   "outputs": [
    {
     "name": "stdin",
     "output_type": "stream",
     "text": [
      "enter string this is a great platform\n",
      "enter substring great platform\n"
     ]
    },
    {
     "name": "stdout",
     "output_type": "stream",
     "text": [
      "my substring occurence is 1 times\n"
     ]
    }
   ],
   "source": [
    "#Q.5 write a code to find all occurences of a given substring within another string\n",
    "string=input('enter string')\n",
    "substring=input('enter substring')\n",
    "count=string.count(substring)\n",
    "print('my substring occurence is', count ,'times')"
   ]
  },
  {
   "cell_type": "code",
   "execution_count": 5,
   "id": "f57e563e-5483-4971-a2ea-b267222032ba",
   "metadata": {},
   "outputs": [
    {
     "data": {
      "text/plain": [
       "'a2b3c3'"
      ]
     },
     "execution_count": 5,
     "metadata": {},
     "output_type": "execute_result"
    }
   ],
   "source": [
    "#Q.6 write a code to perform basic string compression using the counts of repeated charcters\n",
    "from itertools import groupby\n",
    "s='aabbbccc'\n",
    "''.join(k + str(sum(1 for x in g)) for k,g in groupby(s))\n",
    "    \n",
    "        \n",
    "        "
   ]
  },
  {
   "cell_type": "code",
   "execution_count": 48,
   "id": "315373ea-0c8f-4c5a-a558-8996dd21af34",
   "metadata": {},
   "outputs": [
    {
     "name": "stdout",
     "output_type": "stream",
     "text": [
      "all characters are not unique\n",
      "all characters are not unique\n",
      "all characters are not unique\n",
      "all characters are not unique\n",
      "all characters are not unique\n",
      "all characters are not unique\n",
      "all characters are not unique\n",
      "all characters are not unique\n",
      "all characters are not unique\n",
      "all characters are not unique\n",
      "all characters are not unique\n",
      "all characters are not unique\n"
     ]
    }
   ],
   "source": [
    "#Q.7 write a code to determine if a string has all unioque charcters\n",
    "string='RAUNAK GUPTA'\n",
    "for i in range(len(string)):\n",
    "    if string[i]==string[i-1]:\n",
    "        print('this has all unique characters')\n",
    "    else:\n",
    "        print('all characters are not unique')"
   ]
  },
  {
   "cell_type": "code",
   "execution_count": 36,
   "id": "0bb03ae6-f69c-4bbc-b92b-632eb821cb07",
   "metadata": {},
   "outputs": [
    {
     "data": {
      "text/plain": [
       "'GREAT JOB'"
      ]
     },
     "execution_count": 36,
     "metadata": {},
     "output_type": "execute_result"
    }
   ],
   "source": [
    "#Q.8 write a code  to convert a given string to uppercase or lowercase\n",
    "s='great job'\n",
    "s.upper()"
   ]
  },
  {
   "cell_type": "code",
   "execution_count": 33,
   "id": "2e19cfed-ddbc-4099-bc03-0b5177032a6f",
   "metadata": {},
   "outputs": [
    {
     "data": {
      "text/plain": [
       "'great job'"
      ]
     },
     "execution_count": 33,
     "metadata": {},
     "output_type": "execute_result"
    }
   ],
   "source": [
    "s.lower()"
   ]
  },
  {
   "cell_type": "code",
   "execution_count": 40,
   "id": "b63edfda-3f3a-4535-a761-47888e37ee1e",
   "metadata": {},
   "outputs": [
    {
     "name": "stdout",
     "output_type": "stream",
     "text": [
      "hello raunak\n"
     ]
    }
   ],
   "source": [
    "#Q.10 write a code to concatenate two strings without using + operator\n",
    "str1='hello'\n",
    "str2='raunak'\n",
    "print(str1,str2)"
   ]
  },
  {
   "cell_type": "code",
   "execution_count": 51,
   "id": "d48d98a9-f4e4-478d-8dd6-22aec038fb67",
   "metadata": {},
   "outputs": [
    {
     "data": {
      "text/plain": [
       "8"
      ]
     },
     "execution_count": 51,
     "metadata": {},
     "output_type": "execute_result"
    }
   ],
   "source": [
    "#Q.9 write a code to count the number of words in a string\n",
    "s='pwskills'\n",
    "p=len(s)\n",
    "p\n",
    "\n"
   ]
  },
  {
   "cell_type": "code",
   "execution_count": 41,
   "id": "d3d1a664-af08-4dda-8841-217186c82db4",
   "metadata": {},
   "outputs": [
    {
     "data": {
      "text/plain": [
       "[1, 78, 66, 7, 9]"
      ]
     },
     "execution_count": 41,
     "metadata": {},
     "output_type": "execute_result"
    }
   ],
   "source": [
    "#Q.11 write a code to rempove all occurences of a specific element from a list\n",
    "list=[1,78,22,66,22,7,9]\n",
    "value=22\n",
    "for i in list:\n",
    "    if value in list:\n",
    "        list.remove(value)\n",
    "list\n",
    "        "
   ]
  },
  {
   "cell_type": "code",
   "execution_count": 49,
   "id": "cb9618a1-73d8-4638-b4d5-2b0e7a33a66f",
   "metadata": {},
   "outputs": [
    {
     "name": "stdout",
     "output_type": "stream",
     "text": [
      "second largest number is 89\n"
     ]
    }
   ],
   "source": [
    "#Q.12 implement a code to find the second largest number in a given list of integers\n",
    "list=[6,3,1,0,99,86,89]\n",
    "list.sort()\n",
    "print('second largest number is', list[-2])"
   ]
  },
  {
   "cell_type": "code",
   "execution_count": 55,
   "id": "7f598c16-787a-4b5b-9330-fb22581b0495",
   "metadata": {},
   "outputs": [],
   "source": [
    "#Q.13 create a code to count the occurences of each element in alist and return a dictionary with element as keys and their counts as values\n",
    "from collections import Counter\n",
    "def lst(list1):\n",
    "    return Counter(list1)\n"
   ]
  },
  {
   "cell_type": "code",
   "execution_count": 58,
   "id": "1da19e14-969b-410d-92a5-f95e1d300bfe",
   "metadata": {},
   "outputs": [
    {
     "data": {
      "text/plain": [
       "Counter({'apple': 3, 'litchi': 2, 'guava': 2})"
      ]
     },
     "execution_count": 58,
     "metadata": {},
     "output_type": "execute_result"
    }
   ],
   "source": [
    "lst(['apple','apple','apple','litchi','litchi','guava','guava'])"
   ]
  },
  {
   "cell_type": "code",
   "execution_count": 55,
   "id": "9322cde5-4e06-431b-afa2-970e932a4ba0",
   "metadata": {},
   "outputs": [
    {
     "data": {
      "text/plain": [
       "['great', 7, 6, 34, 8, 1]"
      ]
     },
     "execution_count": 55,
     "metadata": {},
     "output_type": "execute_result"
    }
   ],
   "source": [
    "#Q.14 write a code to reverse a list in place without using any built_in reverse function\n",
    "list=[1,8,34,6,7,'great']\n",
    "list[::-1]"
   ]
  },
  {
   "cell_type": "code",
   "execution_count": 65,
   "id": "fa637eae-7869-4a72-a6aa-835b5968695e",
   "metadata": {},
   "outputs": [
    {
     "data": {
      "text/plain": [
       "[7, 8, 9]"
      ]
     },
     "execution_count": 65,
     "metadata": {},
     "output_type": "execute_result"
    }
   ],
   "source": [
    "#Q.15 implement a code to find and remove duplicates from a list while preserving the original order of elements.\n",
    "def remove_duplicates(lst):\n",
    "    seen = set()\n",
    "    seen_add = seen.add\n",
    "    return[x for x in lst if not(x in seen or seen_add(x))]\n",
    "remove_duplicates([7,8,9,7,7,8,8])\n"
   ]
  },
  {
   "cell_type": "code",
   "execution_count": 31,
   "id": "701c64da-b273-44a7-be0c-3f2817291950",
   "metadata": {},
   "outputs": [
    {
     "name": "stdout",
     "output_type": "stream",
     "text": [
      "sorted\n"
     ]
    }
   ],
   "source": [
    "#Q.16 create a code to check if a given list is sorted(either in ascending or descending order) or not\n",
    "list=[9,3,4,5,0,2]\n",
    "if sorted(list):\n",
    "    print('sorted')\n",
    "\n",
    "else:\n",
    "    print('not sorted')"
   ]
  },
  {
   "cell_type": "code",
   "execution_count": 24,
   "id": "547c28d3-dc43-4ca8-9da8-ac2c3feb1c4f",
   "metadata": {},
   "outputs": [
    {
     "data": {
      "text/plain": [
       "<function __main__.sort(lst, ascending_order=True)>"
      ]
     },
     "execution_count": 24,
     "metadata": {},
     "output_type": "execute_result"
    }
   ],
   "source": [
    "sort([5,6,7,8,9])\n",
    "sort"
   ]
  },
  {
   "cell_type": "code",
   "execution_count": 20,
   "id": "332bc393-11c4-49ad-b29e-e42f4a16a7bd",
   "metadata": {},
   "outputs": [
    {
     "data": {
      "text/plain": [
       "[1, 2, 3, 5, 5, 6, 8, 9]"
      ]
     },
     "execution_count": 20,
     "metadata": {},
     "output_type": "execute_result"
    }
   ],
   "source": [
    "#Q.17 write a code to merge two sorted list into a single sorted list\n",
    "L1=[9,8,5,6]\n",
    "L2=[1,5,3,2]\n",
    "sorted(L1+L2)"
   ]
  },
  {
   "cell_type": "code",
   "execution_count": 13,
   "id": "2583a926-5c88-4b70-ad20-f04fda5c4fc1",
   "metadata": {},
   "outputs": [
    {
     "data": {
      "text/plain": [
       "[0, 9, 3, 5]"
      ]
     },
     "execution_count": 13,
     "metadata": {},
     "output_type": "execute_result"
    }
   ],
   "source": [
    "#Q.18 implement a code to find the intrsection of two given lists\n",
    "list1=[9,0,3,5,6]\n",
    "list2=[0,8,9,3,4,5]\n",
    "intersection=set(list1) & set(list2)\n",
    "list(intersection)\n",
    "                 \n"
   ]
  },
  {
   "cell_type": "code",
   "execution_count": 17,
   "id": "74feb018-717f-4982-ae17-cc33527cc6f8",
   "metadata": {},
   "outputs": [
    {
     "data": {
      "text/plain": [
       "[2, 34, 43, 45, 54, 23]"
      ]
     },
     "execution_count": 17,
     "metadata": {},
     "output_type": "execute_result"
    }
   ],
   "source": [
    "#Q.19 Create code to find the union of two lists without duplicate\n",
    "list1=[2,43,54,45]\n",
    "list2=[43,54,34,23]\n",
    "union=set(list1).union(set(list2))\n",
    "list(union)"
   ]
  },
  {
   "cell_type": "code",
   "execution_count": 93,
   "id": "3f7b19e0-55c2-445d-9c89-47984e22e69f",
   "metadata": {},
   "outputs": [],
   "source": [
    "#Q.20 write a code to shuffle a given list randomly without using any built_in shuffle functions.\n",
    "import random\n",
    "def custom_shuffle(lst):\n",
    "    return sorted(lst,key=lambda x:random.random())\n"
   ]
  },
  {
   "cell_type": "code",
   "execution_count": 94,
   "id": "be488d26-de1c-4a94-8e80-6d4482dc1c9a",
   "metadata": {},
   "outputs": [
    {
     "data": {
      "text/plain": [
       "[56, 9, 443, 54, 77, 6]"
      ]
     },
     "execution_count": 94,
     "metadata": {},
     "output_type": "execute_result"
    }
   ],
   "source": [
    "custom_shuffle([9,6,54,56,77,443])\n"
   ]
  },
  {
   "cell_type": "code",
   "execution_count": 3,
   "id": "b006cfd1-6640-404f-ba01-f881dd5a4d60",
   "metadata": {},
   "outputs": [
    {
     "name": "stdin",
     "output_type": "stream",
     "text": [
      "enter first tuple 478\n",
      "enter second tuple 687\n"
     ]
    },
    {
     "data": {
      "text/plain": [
       "('8', '7')"
      ]
     },
     "execution_count": 3,
     "metadata": {},
     "output_type": "execute_result"
    }
   ],
   "source": [
    "#Q.21 write a code that takles two tuples as input and returns a new tuple containing element that are common to both input tuples.\n",
    "tup1=tuple(input('enter first tuple'))\n",
    "tup2=tuple(input('enter second tuple'))\n",
    "p=set(tup1).intersection(set(tup2))\n",
    "tuple(p)\n",
    "           \n"
   ]
  },
  {
   "cell_type": "code",
   "execution_count": 109,
   "id": "a2c21a3d-2a11-483e-b29f-0bc4cd21d630",
   "metadata": {},
   "outputs": [
    {
     "name": "stdin",
     "output_type": "stream",
     "text": [
      "enter first set 7,8,9,9,0\n",
      "enter second set 5,7,8,9,6\n"
     ]
    },
    {
     "data": {
      "text/plain": [
       "{',', '7', '8', '9'}"
      ]
     },
     "execution_count": 109,
     "metadata": {},
     "output_type": "execute_result"
    }
   ],
   "source": [
    "#Q.22 create a code taht prompts the user to enter two sets of integers seperated by commas. then print the intersection of these two sets\n",
    "set1=set(input('enter first set'))\n",
    "set2=set(input('enter second set'))\n",
    "set(set1)\n",
    "set(set2)\n",
    "set1 & set2"
   ]
  },
  {
   "cell_type": "code",
   "execution_count": 80,
   "id": "6012acfd-8fc3-4163-a666-18d8d2db025a",
   "metadata": {},
   "outputs": [
    {
     "name": "stdout",
     "output_type": "stream",
     "text": [
      "intersection {4}\n",
      "union {34, 4, 5, 45, 47}\n",
      "difference {5, 47}\n"
     ]
    }
   ],
   "source": [
    "#QQ.28 .create a code that defines two sets of integers then print the union ,intersection,and differnce pf these two sets\n",
    "s1={5,4,47}\n",
    "s2={4,34,45}\n",
    "print(\"intersection\",s1 & s2)\n",
    "print(\"union\",s1 | s2)\n",
    "print(\"difference\",s1 - s2)"
   ]
  },
  {
   "cell_type": "code",
   "execution_count": 18,
   "id": "7bb0d6a8-334d-47f6-938b-94b601a48506",
   "metadata": {},
   "outputs": [],
   "source": [
    "#Q.29 write a code that takes a tuple and an elemnets as input .the function should return the count of occurrenes of the given element in the tuple\n",
    "def count_occurrences(tup,element):\n",
    "    return tup.count(element)\n",
    "\n",
    "        \n",
    "        \n",
    "    \n",
    "            "
   ]
  },
  {
   "cell_type": "code",
   "execution_count": 19,
   "id": "d63b8920-042a-452d-bbea-910435a5eca1",
   "metadata": {},
   "outputs": [
    {
     "data": {
      "text/plain": [
       "3"
      ]
     },
     "execution_count": 19,
     "metadata": {},
     "output_type": "execute_result"
    }
   ],
   "source": [
    "count_occurrences((8,8,8,9,0,7,6),8)\n",
    "\n"
   ]
  },
  {
   "cell_type": "code",
   "execution_count": 4,
   "id": "1ade890c-a8a2-47e6-ba4d-b3e03f82a30b",
   "metadata": {},
   "outputs": [
    {
     "name": "stdin",
     "output_type": "stream",
     "text": [
      "enter string1 'rajesh'\n",
      "enter string2 'mukesh'\n"
     ]
    },
    {
     "data": {
      "text/plain": [
       "{'a', 'j', 'k', 'm', 'r', 'u'}"
      ]
     },
     "execution_count": 4,
     "metadata": {},
     "output_type": "execute_result"
    }
   ],
   "source": [
    "#Q.30 develop a code that prompts the user to input two sets of strings . then,print the symmetric diffrence of these two sets\n",
    "s1=set(input(\"enter string1\"))\n",
    "s2=set(input(\"enter string2\"))\n",
    "s1^s2#symmetric difference"
   ]
  },
  {
   "cell_type": "code",
   "execution_count": 32,
   "id": "62d059c5-c077-45d7-96ef-42924b8b6516",
   "metadata": {},
   "outputs": [],
   "source": [
    "#Q.31 write a code that takes a list of words as input and returns a dictionary where the keys are unique words and the values are the frequencies of those words in the input list\n",
    "from collections import Counter\n",
    "def word_frequencies(word_list):\n",
    "    return Counter(word_list)\n",
    "    "
   ]
  },
  {
   "cell_type": "code",
   "execution_count": 33,
   "id": "bb558643-bd0c-4c3f-81ed-d8597c33ba4e",
   "metadata": {},
   "outputs": [
    {
     "data": {
      "text/plain": [
       "Counter({'RAUNAK': 2, 'SHYAMA': 2, 'GAYTRI': 2})"
      ]
     },
     "execution_count": 33,
     "metadata": {},
     "output_type": "execute_result"
    }
   ],
   "source": [
    "word_frequencies(['RAUNAK','SHYAMA','GAYTRI','RAUNAK','SHYAMA','GAYTRI'])"
   ]
  },
  {
   "cell_type": "code",
   "execution_count": 17,
   "id": "ff45f735-c817-41a3-bf73-191c5391b55d",
   "metadata": {},
   "outputs": [
    {
     "name": "stdout",
     "output_type": "stream",
     "text": [
      "{'a': 78, 'b': 45, 'c': 179, 'd': 8}\n"
     ]
    }
   ],
   "source": [
    "#Q.32 write a code that takes two dictionaries as input and merges them into a single dictionary. if there are common keys , the values shoukld be added togerher\n",
    "from collections import Counter\n",
    "def merged(dict1,dict2):\n",
    "    #convert both dictionaries to counter objects\n",
    "    #counter automatically adds up same key's values\n",
    "    counter1=Counter(dict1)\n",
    "    counter2=Counter(dict2)\n",
    "    #add two counter objects\n",
    "    merge_counter=counter1+counter2\n",
    "    return dict(merge_counter)\n",
    "#example usage\n",
    "dict1={'a':0,'b':45,'c':90}\n",
    "dict2={'d':8,'a':78,'c':89}\n",
    "merged_dict=merged(dict1,dict2)\n",
    "print(merged_dict)"
   ]
  },
  {
   "cell_type": "code",
   "execution_count": 42,
   "id": "3bae6143-774d-4201-85d8-b067fff69ecd",
   "metadata": {},
   "outputs": [],
   "source": [
    "#Q.33 write a code to access a value in a nested dictionary . the funtion should take the dictionary and a list of keys as input , and return the corresponding value. if any of the keys do not exist in the dictionary ,the function should return none\n",
    "def get_nested_value(nested_dict,keys):\n",
    "    \"\"\"\n",
    "    retrieve a value from anested dictionary using a list of keys.\n",
    "    parameters:\n",
    "    nested_list(dict):the dictionaqry to retrieve the value from.\n",
    "    keys(list)the list of keys esed to traverse a dictinary.\n",
    "    rteurns:\n",
    "    the value corresponding to the nested keys, or none if sny key does not exist.\n",
    "    \"\"\"\n",
    "    current_level = nested_dict\n",
    "    for key in keys:\n",
    "        if isinstance(current_level,dict) and key in current_level:\n",
    "            current_level = current_level[key]\n",
    "        else:\n",
    "                return none\n",
    "    return current_level\n",
    "    "
   ]
  },
  {
   "cell_type": "code",
   "execution_count": null,
   "id": "39254264-097e-49da-95a3-13abea9409d4",
   "metadata": {},
   "outputs": [],
   "source": []
  },
  {
   "cell_type": "code",
   "execution_count": null,
   "id": "72aff466-bde7-452c-9efe-c97feac4acbf",
   "metadata": {},
   "outputs": [],
   "source": []
  },
  {
   "cell_type": "code",
   "execution_count": null,
   "id": "fa0e40a9-3a58-4e28-8e91-da2c08485c0e",
   "metadata": {},
   "outputs": [],
   "source": []
  },
  {
   "cell_type": "code",
   "execution_count": 8,
   "id": "f1b9c48f-6388-4619-988f-46780f1c1691",
   "metadata": {},
   "outputs": [
    {
     "data": {
      "text/plain": [
       "1"
      ]
     },
     "execution_count": 8,
     "metadata": {},
     "output_type": "execute_result"
    }
   ],
   "source": [
    "get_nested_value({'a':{'b':{'c':1}},'d':2},['a','b','c'])"
   ]
  },
  {
   "cell_type": "code",
   "execution_count": 4,
   "id": "d9d4cba9-fde0-4905-8588-4d7d34e30507",
   "metadata": {},
   "outputs": [],
   "source": [
    "#Q.34 write a code that takes a dictionary as input and return a sorted version of it baseed on the values . you can choose whether bto sort in ascending or descending order\n",
    "def sort_dict_by_value(input_dict,ascending=True):\n",
    "    sorted_dict=dict(sorted(input_dict.items(),key=lambda item: item[1] ,reverse=not ascending))\n",
    "    return sorted_dict\n"
   ]
  },
  {
   "cell_type": "code",
   "execution_count": 5,
   "id": "05457800-45b0-4e3f-995a-ad14deb7a0e6",
   "metadata": {},
   "outputs": [
    {
     "data": {
      "text/plain": [
       "{'f': 2, 'a': 8, 'n': 9}"
      ]
     },
     "execution_count": 5,
     "metadata": {},
     "output_type": "execute_result"
    }
   ],
   "source": [
    "sort_dict_by_value({'a':8,'n':9,'f':2})"
   ]
  },
  {
   "cell_type": "code",
   "execution_count": 111,
   "id": "dec9c068-52bd-45e3-8906-fdb479b47618",
   "metadata": {},
   "outputs": [],
   "source": [
    "#Q.35 write a code that inverts a dictionary , swapping keys and values . ensure that the inverted dictionary correctly handles cases where multiple keys have the same value by storing the keys as a list in the inverted dictionary\n",
    "def invert_dictionary(original_dict):\n",
    "    invert_dict={}\n",
    "    for key , value in original_dict.items():\n",
    "        if value in invert_dict:\n",
    "            #if the value is already a key in inverted_dict then append the key to the list\n",
    "            invert_dict[value].append(key)\n",
    "        else:\n",
    "            #otherwise create a new list with the key\n",
    "            invert_dict[value]=[key]\n",
    "    return invert_dict"
   ]
  },
  {
   "cell_type": "code",
   "execution_count": 27,
   "id": "7ed1ef9b-cbe1-4141-a0ad-bb5a497c18a2",
   "metadata": {},
   "outputs": [
    {
     "data": {
      "text/plain": [
       "{89: ['s'], 856: ['j'], 87: ['o']}"
      ]
     },
     "execution_count": 27,
     "metadata": {},
     "output_type": "execute_result"
    }
   ],
   "source": [
    "invert_dictionary({'s':89,'j':856,'o':87})"
   ]
  },
  {
   "cell_type": "code",
   "execution_count": 8,
   "id": "ccfc6a3e-b24e-44f3-956d-cd1a130c9ac0",
   "metadata": {},
   "outputs": [],
   "source": [
    "#Q.23 write a code to concatenate two tupkles .the function should take two tuples as input and return a new tuple containing elements from both input tuples\n",
    "def concat(tup1,tup2):\n",
    "    p=tup1+tup2\n",
    "    return p"
   ]
  },
  {
   "cell_type": "code",
   "execution_count": 9,
   "id": "0927d817-b1f8-4c1c-94a8-d7ac00eaef29",
   "metadata": {},
   "outputs": [
    {
     "data": {
      "text/plain": [
       "(1, 6, 7, 89, 9, 7, 8, 9, 4, 3, 5)"
      ]
     },
     "execution_count": 9,
     "metadata": {},
     "output_type": "execute_result"
    }
   ],
   "source": [
    "concat((1,6,7,89,9),(7,8,9,4,3,5))"
   ]
  },
  {
   "cell_type": "code",
   "execution_count": 10,
   "id": "a181c5fa-d9fa-4090-9f09-cebe9e593d90",
   "metadata": {},
   "outputs": [
    {
     "name": "stdin",
     "output_type": "stream",
     "text": [
      "enter your first set {'g','k','l','r'}\n",
      "enter your second set {'h','g','l'}\n"
     ]
    },
    {
     "name": "stdout",
     "output_type": "stream",
     "text": [
      "{'k', 'r'}\n"
     ]
    }
   ],
   "source": [
    "#Q.24 develop a code that prompts the user to input two sets of strings .then print the elements that are present in the first set but not in the second set\n",
    "s1=set(input('enter your first set'))\n",
    "s2=set(input('enter your second set'))\n",
    "print(s1-s2)"
   ]
  },
  {
   "cell_type": "code",
   "execution_count": 18,
   "id": "79cdbca2-1bbe-430b-87b6-ded372c39b8e",
   "metadata": {},
   "outputs": [],
   "source": [
    "#Q.25 create a code that takes a tuple and two integers as input . the function should return a new tuple containing elements from the original tuple within the specified range of indices\n",
    "def tup(tuple1,start_index,end_index):\n",
    "    if start_index>0 and end_index>=len(tuple1):\n",
    "        return()\n",
    "    return tuple1[start_index:end_index]\n",
    "    \n"
   ]
  },
  {
   "cell_type": "code",
   "execution_count": 19,
   "id": "e40ffc3a-0305-4b74-b68e-5927e3d6e403",
   "metadata": {},
   "outputs": [
    {
     "data": {
      "text/plain": [
       "('i', 'l', 'l')"
      ]
     },
     "execution_count": 19,
     "metadata": {},
     "output_type": "execute_result"
    }
   ],
   "source": [
    "tup(('p','w','s','k','i','l','l','s'),4,7)\n",
    "    \n"
   ]
  },
  {
   "cell_type": "code",
   "execution_count": 13,
   "id": "6ab1462b-cff5-44d1-9f75-bab2d4e6d5d1",
   "metadata": {},
   "outputs": [
    {
     "name": "stdin",
     "output_type": "stream",
     "text": [
      "enter your first set {'a','g','k','h'}\n",
      "enter your second set {'h','l','k'}\n"
     ]
    },
    {
     "data": {
      "text/plain": [
       "{\"'\", ',', 'a', 'g', 'h', 'k', 'l', '{', '}'}"
      ]
     },
     "execution_count": 13,
     "metadata": {},
     "output_type": "execute_result"
    }
   ],
   "source": [
    "#Q.26 create a code that prompts the user to input two sets of characters.then print the union of these two sets\n",
    "s1=set(input('enter your first set'))\n",
    "s2=set(input('enter your second set'))\n",
    "s1.union(s2)"
   ]
  },
  {
   "cell_type": "code",
   "execution_count": 14,
   "id": "c053642d-95ff-40aa-87dd-d5cf0088b7fc",
   "metadata": {},
   "outputs": [],
   "source": [
    "#Q.27 develop a code that takes a tuple of integers as input .the function should return the maximum and minimumvalues from the tuple using tuple unpackimg\n",
    "def find_max_min(input_tuple):\n",
    "    max_value=max(input_tuple)\n",
    "    min_value=min(input_tuple)\n",
    "    return max_value, min_value\n"
   ]
  },
  {
   "cell_type": "code",
   "execution_count": 15,
   "id": "c045e97b-403e-4d48-a432-a32a77f45568",
   "metadata": {},
   "outputs": [
    {
     "data": {
      "text/plain": [
       "(9, 1)"
      ]
     },
     "execution_count": 15,
     "metadata": {},
     "output_type": "execute_result"
    }
   ],
   "source": [
    "find_max_min((1,6,7,8,9))"
   ]
  },
  {
   "cell_type": "code",
   "execution_count": null,
   "id": "9c9a5af1-ead4-4d1b-a6df-42be892eeec7",
   "metadata": {},
   "outputs": [],
   "source": []
  },
  {
   "cell_type": "code",
   "execution_count": null,
   "id": "9d0a38aa-762a-4537-b3f5-9c2223a8a603",
   "metadata": {},
   "outputs": [],
   "source": []
  }
 ],
 "metadata": {
  "kernelspec": {
   "display_name": "Python 3 (ipykernel)",
   "language": "python",
   "name": "python3"
  },
  "language_info": {
   "codemirror_mode": {
    "name": "ipython",
    "version": 3
   },
   "file_extension": ".py",
   "mimetype": "text/x-python",
   "name": "python",
   "nbconvert_exporter": "python",
   "pygments_lexer": "ipython3",
   "version": "3.10.8"
  }
 },
 "nbformat": 4,
 "nbformat_minor": 5
}
